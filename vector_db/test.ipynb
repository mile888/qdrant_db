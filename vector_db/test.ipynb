{
 "cells": [
  {
   "cell_type": "markdown",
   "metadata": {},
   "source": [
    "### Example of how to prepare a dataset for collection in a qdrant database\n",
    "\n",
    "<div class=\"alert alert-block alert-info\">\n",
    "Be sure that information that will be considered as vector must be under field 'content'!. <br>\n",
    "All other fields are optional, they are metadata. \n",
    "</div>"
   ]
  },
  {
   "cell_type": "code",
   "execution_count": 1,
   "metadata": {},
   "outputs": [
    {
     "data": {
      "text/plain": [
       "[{'content': 'Dick Johnson Is Dead. As her father nears the end of his life, filmmaker Kirsten Johnson stages his death in inventive and comical ways to help them both face the inevitable.',\n",
       "  'title': 'Dick Johnson Is Dead',\n",
       "  'type': 'Movie',\n",
       "  'country': 'United States',\n",
       "  'release_year': 2020,\n",
       "  'rating': 'PG-13',\n",
       "  'date_added': 'September 25, 2021'},\n",
       " {'content': 'Blood & Water. After crossing paths at a party, a Cape Town teen sets out to prove whether a private-school swimming star is her sister who was abducted at birth.',\n",
       "  'title': 'Blood & Water',\n",
       "  'type': 'TV Show',\n",
       "  'country': 'South Africa',\n",
       "  'release_year': 2021,\n",
       "  'rating': 'TV-MA',\n",
       "  'date_added': 'September 24, 2021'},\n",
       " {'content': 'Ganglands. To protect his family from a powerful drug lord, skilled thief Mehdi and his expert team of robbers are pulled into a violent and deadly turf war.',\n",
       "  'title': 'Ganglands',\n",
       "  'type': 'TV Show',\n",
       "  'country': None,\n",
       "  'release_year': 2021,\n",
       "  'rating': 'TV-MA',\n",
       "  'date_added': 'September 24, 2021'}]"
      ]
     },
     "execution_count": 1,
     "metadata": {},
     "output_type": "execute_result"
    }
   ],
   "source": [
    "from datasets import load_dataset\n",
    "\n",
    "dataset = load_dataset(\"Anusha64/netflix-media\")\n",
    "train_data = dataset['train']  \n",
    "\n",
    "dataset_list = []\n",
    "for row in train_data:\n",
    "    dict = {}\n",
    "    dict['content'] = row['title'] + '. ' + row['description']\n",
    "    dict['title'] = row['title']\n",
    "    dict['type'] = row['type']\n",
    "    dict['country'] = row['country']\n",
    "    dict['release_year'] = row['release_year']\n",
    "    dict['rating'] = row['rating']\n",
    "    dict['date_added'] = row['date_added']\n",
    "    dataset_list.append(dict)\n",
    "\n",
    "dataset_list[:3]"
   ]
  },
  {
   "cell_type": "markdown",
   "metadata": {},
   "source": [
    "### Initialize embedding models \n",
    "<div class=\"alert alert-block alert-info\">\n",
    "For more information about possible arguments, see the VectorDatabaseManager class description!\n",
    "</div>"
   ]
  },
  {
   "cell_type": "code",
   "execution_count": 2,
   "metadata": {},
   "outputs": [
    {
     "name": "stdout",
     "output_type": "stream",
     "text": [
      "Loading Embedding Models ......\n"
     ]
    },
    {
     "data": {
      "application/vnd.jupyter.widget-view+json": {
       "model_id": "333d2119225540159c27a4d076fb839a",
       "version_major": 2,
       "version_minor": 0
      },
      "text/plain": [
       "Fetching 29 files:   0%|          | 0/29 [00:00<?, ?it/s]"
      ]
     },
     "metadata": {},
     "output_type": "display_data"
    },
    {
     "name": "stdout",
     "output_type": "stream",
     "text": [
      "Embedding Models Loaded ......\n"
     ]
    }
   ],
   "source": [
    "from qdrant_db import VectorDatabaseManager\n",
    "\n",
    "manager = VectorDatabaseManager(embedding_model='intfloat/multilingual-e5-large-instruct')"
   ]
  },
  {
   "cell_type": "markdown",
   "metadata": {},
   "source": [
    "### Create collection in qdrant database\n",
    "<div class=\"alert alert-block alert-info\">\n",
    "For more information about possible arguments, see the VectorDatabaseManager class description!\n",
    "</div>"
   ]
  },
  {
   "cell_type": "code",
   "execution_count": 3,
   "metadata": {},
   "outputs": [
    {
     "name": "stdout",
     "output_type": "stream",
     "text": [
      "Creating vectors...\n",
      "Vectors are created...\n",
      "Qdrant creating ........\n",
      "Qdrant is created ........\n"
     ]
    }
   ],
   "source": [
    "manager.create_vector_database(data = dataset_list,\n",
    "                               collection_name = 'example_1')\n"
   ]
  },
  {
   "cell_type": "markdown",
   "metadata": {},
   "source": [
    "### Send one query to retrive and find the best content"
   ]
  },
  {
   "cell_type": "code",
   "execution_count": 8,
   "metadata": {},
   "outputs": [
    {
     "data": {
      "text/plain": [
       "[{'content': 'Hot Girls Wanted. This 2015 Sundance Film Festival breakout documentary from producer Rashida Jones spotlights the \"amateur\" porn industry and the women it exploits.',\n",
       "  'metadata': {'title': 'Hot Girls Wanted',\n",
       "   'type': 'Movie',\n",
       "   'country': 'United States',\n",
       "   'release_year': 2015,\n",
       "   'rating': 'TV-MA',\n",
       "   'date_added': 'May 29, 2015',\n",
       "   '_id': '6fe9cac5-04c2-450b-8d77-ddfea01a0a58',\n",
       "   '_collection_name': 'example_1'},\n",
       "  'score': 0.5},\n",
       " {'content': 'Khido Khundi. An embittered former hockey star must engage with the sport again to help his brother assemble a team for a momentous match against the British.',\n",
       "  'metadata': {'title': 'Khido Khundi',\n",
       "   'type': 'Movie',\n",
       "   'country': 'India',\n",
       "   'release_year': 2018,\n",
       "   'rating': 'TV-14',\n",
       "   'date_added': 'October 1, 2018',\n",
       "   '_id': 'cebb1037-55b5-4e21-8fe8-cddd11bc2932',\n",
       "   '_collection_name': 'example_1'},\n",
       "  'score': 0.5},\n",
       " {'content': 'Ice Guardians. This film explores the controversial role of ice hockey \"enforcers,\" as well as the physical and mental price paid by the game\\'s notorious tough guys.',\n",
       "  'metadata': {'title': 'Ice Guardians',\n",
       "   'type': 'Movie',\n",
       "   'country': 'Canada, Ireland, United States',\n",
       "   'release_year': 2016,\n",
       "   'rating': 'TV-MA',\n",
       "   'date_added': 'October 1, 2017',\n",
       "   '_id': 'bec675f6-bf86-439f-b2ff-308944ea82a8',\n",
       "   '_collection_name': 'example_1'},\n",
       "  'score': 0.33333334}]"
      ]
     },
     "execution_count": 8,
     "metadata": {},
     "output_type": "execute_result"
    }
   ],
   "source": [
    "query = 'I want to watch the film about sport'\n",
    "\n",
    "result = manager.vector_database_search(query=query,\n",
    "                                        collection_name = 'example_1',\n",
    "                                        retrval = 'hybrid',\n",
    "                                        k = 3)\n",
    "result"
   ]
  },
  {
   "cell_type": "markdown",
   "metadata": {},
   "source": [
    "### Send the list of queries to retrive and find the best content"
   ]
  },
  {
   "cell_type": "code",
   "execution_count": 9,
   "metadata": {},
   "outputs": [
    {
     "name": "stdout",
     "output_type": "stream",
     "text": [
      "Processed 0 queries.\n"
     ]
    },
    {
     "data": {
      "text/plain": [
       "{'query': 'I want to watch film with Bred Pit',\n",
       " 'retrival': [{'content': \"I'm with the Band: Nasty Cherry. In an unfiltered, intimate docuseries, pop star mentor Charli XCX finds out what it takes to build – and break – a real, badass all-girl punk band.\",\n",
       "   'metadata': {'title': \"I'm with the Band: Nasty Cherry\",\n",
       "    'type': 'TV Show',\n",
       "    'country': 'United States',\n",
       "    'release_year': 2019,\n",
       "    'rating': 'TV-MA',\n",
       "    'date_added': 'November 15, 2019',\n",
       "    '_id': '1fffc25f-eac1-4115-8b2a-ad73f35bc578',\n",
       "    '_collection_name': 'example_1'},\n",
       "   'score': 0.5},\n",
       "  {'content': 'Hot Girls Wanted. This 2015 Sundance Film Festival breakout documentary from producer Rashida Jones spotlights the \"amateur\" porn industry and the women it exploits.',\n",
       "   'metadata': {'title': 'Hot Girls Wanted',\n",
       "    'type': 'Movie',\n",
       "    'country': 'United States',\n",
       "    'release_year': 2015,\n",
       "    'rating': 'TV-MA',\n",
       "    'date_added': 'May 29, 2015',\n",
       "    '_id': '6fe9cac5-04c2-450b-8d77-ddfea01a0a58',\n",
       "    '_collection_name': 'example_1'},\n",
       "   'score': 0.5},\n",
       "  {'content': \"Yo-Kai Watch: The Movie. Nate's special Yo-Kai Watch is missing. He travels back in time to meet the watch's inventor, his grandfather. Together, they must restore history!\",\n",
       "   'metadata': {'title': 'Yo-Kai Watch: The Movie',\n",
       "    'type': 'Movie',\n",
       "    'country': 'Japan, United States',\n",
       "    'release_year': 2016,\n",
       "    'rating': 'TV-Y7',\n",
       "    'date_added': 'December 1, 2016',\n",
       "    '_id': 'f04e7bd9-ee4e-4ebb-b365-b57e136c09b8',\n",
       "    '_collection_name': 'example_1'},\n",
       "   'score': 0.33333334}]}"
      ]
     },
     "execution_count": 9,
     "metadata": {},
     "output_type": "execute_result"
    }
   ],
   "source": [
    "list_of_query = ['I want to watch the film about sport',\n",
    "         'Find me the good film where I learn englis', \n",
    "         'I want to watch film with Bred Pit',\n",
    "         'What is the best film']\n",
    "\n",
    "results = manager.vector_database_search_list(list_of_query=list_of_query,\n",
    "                                              collection_name = 'example_1',\n",
    "                                              retrval = 'hybrid',\n",
    "                                              k = 3)\n",
    "\n",
    "results[0]"
   ]
  },
  {
   "cell_type": "code",
   "execution_count": null,
   "metadata": {},
   "outputs": [],
   "source": []
  }
 ],
 "metadata": {
  "kernelspec": {
   "display_name": "env_recsys",
   "language": "python",
   "name": "python3"
  },
  "language_info": {
   "codemirror_mode": {
    "name": "ipython",
    "version": 3
   },
   "file_extension": ".py",
   "mimetype": "text/x-python",
   "name": "python",
   "nbconvert_exporter": "python",
   "pygments_lexer": "ipython3",
   "version": "3.11.10"
  }
 },
 "nbformat": 4,
 "nbformat_minor": 2
}
